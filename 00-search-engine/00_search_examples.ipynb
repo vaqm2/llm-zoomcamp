{
 "cells": [
  {
   "cell_type": "code",
   "execution_count": 1,
   "id": "59d664ac-19ef-43a0-a756-9ee8fb1611bb",
   "metadata": {},
   "outputs": [],
   "source": [
    "import pandas as pd\n",
    "import requests\n",
    "import logging\n",
    "from pprint import pprint\n",
    "from sklearn.feature_extraction.text import CountVectorizer"
   ]
  },
  {
   "cell_type": "code",
   "execution_count": 2,
   "id": "abcb247a-3405-48dc-980f-879fa5dcc575",
   "metadata": {},
   "outputs": [
    {
     "name": "stdout",
     "output_type": "stream",
     "text": [
      "                      course                           section  \\\n",
      "0  data-engineering-zoomcamp  General course-related questions   \n",
      "1  data-engineering-zoomcamp  General course-related questions   \n",
      "2  data-engineering-zoomcamp  General course-related questions   \n",
      "3  data-engineering-zoomcamp  General course-related questions   \n",
      "4  data-engineering-zoomcamp  General course-related questions   \n",
      "\n",
      "                                            question  \\\n",
      "0               Course - When will the course start?   \n",
      "1  Course - What are the prerequisites for this c...   \n",
      "2  Course - Can I still join the course after the...   \n",
      "3  Course - I have registered for the Data Engine...   \n",
      "4   Course - What can I do before the course starts?   \n",
      "\n",
      "                                                text  \n",
      "0  The purpose of this document is to capture fre...  \n",
      "1  GitHub - DataTalksClub data-engineering-zoomca...  \n",
      "2  Yes, even if you don't register, you're still ...  \n",
      "3  You don't need it. You're accepted. You can al...  \n",
      "4  You can start by installing and setting up all...  \n",
      "                      course                           section  \\\n",
      "0  data-engineering-zoomcamp  General course-related questions   \n",
      "1  data-engineering-zoomcamp  General course-related questions   \n",
      "2  data-engineering-zoomcamp  General course-related questions   \n",
      "3  data-engineering-zoomcamp  General course-related questions   \n",
      "4  data-engineering-zoomcamp  General course-related questions   \n",
      "\n",
      "                                            question  \\\n",
      "0               Course - When will the course start?   \n",
      "1  Course - What are the prerequisites for this c...   \n",
      "2  Course - Can I still join the course after the...   \n",
      "3  Course - I have registered for the Data Engine...   \n",
      "4   Course - What can I do before the course starts?   \n",
      "\n",
      "                                                text  \n",
      "0  The purpose of this document is to capture fre...  \n",
      "1  GitHub - DataTalksClub data-engineering-zoomca...  \n",
      "2  Yes, even if you don't register, you're still ...  \n",
      "3  You don't need it. You're accepted. You can al...  \n",
      "4  You can start by installing and setting up all...  \n"
     ]
    }
   ],
   "source": [
    "docs_url = \"https://github.com/alexeygrigorev/llm-rag-workshop/raw/main/notebooks/documents.json\"\n",
    "\n",
    "try:\n",
    "    response = requests.get(url=docs_url)\n",
    "except Exception as e:\n",
    "    logging.error(f\"Failed to downloads docs due to: {e}\")\n",
    "else:\n",
    "    docs_json = response.json()\n",
    "    docs_df = pd.json_normalize(docs_json, \"documents\", [\"course\"])\n",
    "    docs_df = docs_df[[\"course\", \"section\", \"question\", \"text\"]]\n",
    "\n",
    "print(docs_df.head())\n",
    "print(docs_df[docs_df[\"course\"] == \"data-engineering-zoomcamp\"].head())"
   ]
  },
  {
   "cell_type": "code",
   "execution_count": 18,
   "id": "a771504b-0df4-46cb-9329-6e61bedc50d3",
   "metadata": {},
   "outputs": [],
   "source": [
    "docs_example = [\n",
    "    \"Course starts on 15th Jan 2024\",\n",
    "    \"Prerequisites listed on GitHub\",\n",
    "    \"Submit homeworks after start date\",\n",
    "    \"Registration not required for participation\",\n",
    "    \"Setup Google Cloud and Python before course\"\n",
    "]\n"
   ]
  },
  {
   "cell_type": "code",
   "execution_count": 23,
   "id": "85fb1123-faac-40f8-bdb8-96f22aef495f",
   "metadata": {},
   "outputs": [
    {
     "name": "stdout",
     "output_type": "stream",
     "text": [
      "          0    1    2    3    4    5    6    7    8    9    ...  938  939  \\\n",
      "01          0    0    0    0    0    0    0    0    0    0  ...    0    0   \n",
      "02          0    0    0    0    0    0    0    0    0    0  ...    0    0   \n",
      "03          0    0    0    0    0    0    0    0    0    0  ...    0    0   \n",
      "04          0    0    0    0    0    0    0    0    0    0  ...    0    0   \n",
      "05          0    0    0    0    0    0    0    0    0    0  ...    0    0   \n",
      "...       ...  ...  ...  ...  ...  ...  ...  ...  ...  ...  ...  ...  ...   \n",
      "yes         0    0    1    0    0    0    1    1    1    0  ...    0    0   \n",
      "yml         0    0    0    0    0    0    0    0    0    0  ...    0    0   \n",
      "youtube     0    0    0    0    0    0    0    0    0    1  ...    0    0   \n",
      "zip         0    0    0    0    0    0    0    0    0    0  ...    0    0   \n",
      "zoomcamp    0    1    0    0    0    2    0    0    0    0  ...    0    0   \n",
      "\n",
      "          940  941  942  943  944  945  946  947  \n",
      "01          0    0    0    0    0    0    0    0  \n",
      "02          0    0    0    0    0    0    0    0  \n",
      "03          0    0    0    0    0    0    0    0  \n",
      "04          0    0    0    0    0    0    0    0  \n",
      "05          0    0    0    0    0    0    0    0  \n",
      "...       ...  ...  ...  ...  ...  ...  ...  ...  \n",
      "yes         0    0    0    0    0    0    0    0  \n",
      "yml         0    0    0    1    0    0    0    0  \n",
      "youtube     0    0    0    0    0    0    0    0  \n",
      "zip         0    0    0    0    0    0    0    0  \n",
      "zoomcamp    0    0    0    0    0    0    0    1  \n",
      "\n",
      "[1333 rows x 948 columns]\n"
     ]
    }
   ],
   "source": [
    "cv = CountVectorizer(stop_words=\"english\", min_df=5)\n",
    "X = cv.fit_transform(docs_df[\"text\"])\n",
    "X_df = pd.DataFrame(X.toarray(), columns=cv.fit(docs_df[\"text\"]).get_feature_names_out())\n",
    "print(X_df.T)"
   ]
  }
 ],
 "metadata": {
  "kernelspec": {
   "display_name": "Python 3 (ipykernel)",
   "language": "python",
   "name": "python3"
  },
  "language_info": {
   "codemirror_mode": {
    "name": "ipython",
    "version": 3
   },
   "file_extension": ".py",
   "mimetype": "text/x-python",
   "name": "python",
   "nbconvert_exporter": "python",
   "pygments_lexer": "ipython3",
   "version": "3.12.1"
  }
 },
 "nbformat": 4,
 "nbformat_minor": 5
}
