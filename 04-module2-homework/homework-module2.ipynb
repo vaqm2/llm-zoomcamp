{
 "cells": [
  {
   "cell_type": "code",
   "execution_count": 33,
   "id": "be3ddd36",
   "metadata": {},
   "outputs": [],
   "source": [
    "from fastembed import TextEmbedding\n",
    "from qdrant_client import QdrantClient, models\n",
    "import numpy as np\n",
    "import requests"
   ]
  },
  {
   "cell_type": "code",
   "execution_count": 2,
   "id": "8a90e1da",
   "metadata": {},
   "outputs": [],
   "source": [
    "query = 'I just discovered the course. Can I join now?'"
   ]
  },
  {
   "cell_type": "code",
   "execution_count": 3,
   "id": "22ef6c11",
   "metadata": {},
   "outputs": [
    {
     "name": "stdout",
     "output_type": "stream",
     "text": [
      "[array([-7.63946373e-02, -7.30555514e-02,  5.86501632e-02,  3.92670711e-02,\n",
      "       -1.41796944e-02, -4.68342392e-02,  2.69862839e-02,  3.49039298e-02,\n",
      "        1.53419599e-03, -1.10407681e-02,  5.57556382e-02, -2.88360335e-02,\n",
      "       -4.87239656e-02, -9.90923940e-02,  6.02579685e-02, -1.86105496e-02,\n",
      "       -8.81041160e-03, -3.01994898e-02, -1.42541591e-02, -3.87884289e-02,\n",
      "       -2.76125646e-02, -6.94957634e-03,  3.20653388e-02, -5.17838445e-03,\n",
      "        8.37960027e-02, -8.87329694e-02, -7.30260818e-02,  5.92846727e-02,\n",
      "        4.07805582e-02,  7.72684693e-02, -4.60029423e-02,  3.98426848e-02,\n",
      "        1.74821532e-02,  8.70262992e-03, -3.09291007e-02,  2.20470406e-02,\n",
      "        4.76479838e-02,  1.76566216e-02, -3.62013813e-02, -3.53408182e-02,\n",
      "       -5.92536405e-03,  2.97091266e-02,  8.05883488e-02,  1.07132627e-02,\n",
      "       -5.38192486e-02, -9.62880078e-03, -1.17263736e-01,  3.36546383e-02,\n",
      "        7.05763513e-03,  7.70160054e-03, -5.17482624e-02,  5.46955475e-02,\n",
      "       -7.80289880e-02,  4.21801512e-02,  1.26250893e-02,  5.31339233e-02,\n",
      "       -2.67777105e-02,  1.68820710e-02, -3.75064575e-02,  9.13195752e-03,\n",
      "        2.13696710e-02,  1.60150164e-02, -5.05650184e-02,  5.62206108e-02,\n",
      "       -3.66802631e-02, -3.85416636e-02, -4.21257061e-02, -1.36921445e-02,\n",
      "       -8.58581859e-02,  2.62641044e-02, -6.18555791e-02, -8.85549018e-03,\n",
      "        1.23171110e-01, -6.75609576e-02, -4.34101120e-03,  1.59791482e-02,\n",
      "       -4.54303586e-02,  7.61061274e-02,  1.84935465e-02, -3.07273213e-02,\n",
      "       -4.37180910e-02, -4.74577094e-02, -1.95920285e-02,  1.23776941e-02,\n",
      "       -9.96103671e-03, -6.74156435e-02,  2.54752186e-02,  1.22318153e-02,\n",
      "        5.58628736e-02, -3.14317650e-02, -7.23996467e-03,  6.33249365e-02,\n",
      "        5.72494268e-03, -6.21999855e-02, -3.08616602e-02, -4.27290101e-02,\n",
      "        5.16963484e-02,  3.27879400e-02, -2.44813690e-02,  1.79127816e-02,\n",
      "        9.48254274e-02,  2.18390737e-04,  7.01355910e-02, -2.01385799e-02,\n",
      "        3.64990847e-02,  2.13020212e-02, -5.67677258e-02, -3.08141688e-02,\n",
      "       -1.13907049e-01, -2.70064240e-02,  2.60184045e-03, -3.29073685e-02,\n",
      "       -2.55483234e-02, -3.43662100e-03, -5.98275789e-02,  1.65985978e-02,\n",
      "        7.20702673e-02, -4.90840181e-02, -4.08007692e-02, -1.96389040e-02,\n",
      "        5.16470464e-02,  2.06059344e-02, -1.93461980e-02,  3.72109456e-02,\n",
      "        5.30464045e-02,  7.98735346e-02,  8.71973805e-04, -3.86961744e-03,\n",
      "       -1.05970757e-02,  2.70437451e-03, -2.64808040e-02,  2.43888722e-02,\n",
      "       -2.96612954e-02,  1.24279213e-02,  1.33079553e-01, -3.45950718e-02,\n",
      "       -4.59976004e-03,  3.19832475e-02, -3.03514425e-02,  3.81469849e-02,\n",
      "       -4.84041543e-02, -4.63792259e-02,  4.00906365e-02, -4.82729729e-02,\n",
      "       -1.67069458e-02,  3.55168707e-03,  6.37974881e-02, -5.38860989e-02,\n",
      "       -7.28366573e-02,  1.03421641e-04, -1.55753718e-02,  3.20123423e-02,\n",
      "       -6.41519964e-02, -1.35402431e-02, -1.19588832e-03,  8.67279130e-02,\n",
      "       -7.58013635e-03,  5.23631904e-02,  1.13389541e-02, -2.93922192e-02,\n",
      "       -1.96549164e-02,  7.33475517e-02, -1.86935002e-02, -4.86155414e-02,\n",
      "       -4.39756771e-02, -4.00229979e-02,  7.97138064e-02,  9.00253408e-02,\n",
      "       -5.18778951e-02,  8.56789688e-03,  5.70034885e-02,  2.18162417e-02,\n",
      "       -6.55327773e-02, -1.07204405e-02, -1.09933152e-01, -3.49229884e-02,\n",
      "       -1.67648667e-02,  1.53578456e-02, -4.12044222e-02, -3.24616930e-02,\n",
      "        2.44591797e-02, -3.86447497e-02, -2.74303984e-02,  2.07971818e-02,\n",
      "        2.59328097e-02, -4.47550496e-02, -2.40583918e-02,  7.30847474e-03,\n",
      "        1.92917597e-02, -2.69451259e-02,  1.38715619e-02,  6.96976991e-03,\n",
      "        1.17285642e-02, -1.83301821e-02, -2.18455302e-02,  2.70038174e-03,\n",
      "       -1.10026015e-02,  8.52294257e-03, -1.21905306e-03,  2.31681694e-02,\n",
      "        8.07128781e-03,  6.94039305e-02, -5.96166464e-02,  3.58433418e-02,\n",
      "       -4.35553082e-02,  4.33547789e-02, -4.15783523e-02, -5.66755790e-02,\n",
      "       -5.41887032e-02, -2.39018300e-02,  5.63715297e-03,  2.37437530e-02,\n",
      "        7.10345502e-02,  1.73168513e-02, -3.22589007e-02, -1.94682061e-02,\n",
      "       -1.88142575e-02, -2.30825027e-02,  3.37894851e-02, -1.82798246e-02,\n",
      "        3.88098854e-03,  1.84338106e-02, -4.55279675e-03,  2.63694304e-02,\n",
      "       -1.90359606e-02, -2.69390113e-02,  1.15375899e-02,  1.16613858e-02,\n",
      "       -8.27911466e-03, -3.64428427e-02,  9.96343755e-02, -2.95558898e-02,\n",
      "       -5.38948632e-02, -2.51994780e-02,  1.22391639e-02, -2.27057660e-02,\n",
      "        5.10331673e-03, -6.74024324e-03, -2.43784330e-02,  6.32211762e-04,\n",
      "       -7.28257641e-02,  3.13266339e-02,  6.93626768e-02, -4.75812840e-02,\n",
      "        3.87881041e-03,  3.42484048e-02,  7.59028548e-02, -9.77512347e-03,\n",
      "        4.14942650e-02,  7.31681419e-02, -1.54856584e-02, -1.17918647e-02,\n",
      "       -1.91986973e-02, -9.79174314e-02, -3.14926774e-02,  5.35587413e-02,\n",
      "       -2.07791898e-02,  6.31239208e-02, -5.97242997e-02, -2.34605095e-02,\n",
      "        1.62664071e-02,  5.36607828e-02, -1.37692551e-02,  6.59833904e-02,\n",
      "       -9.24494226e-03, -1.99638994e-03, -4.87563344e-02,  1.39512452e-02,\n",
      "        1.22513703e-02,  2.98668812e-02, -8.00470952e-03, -5.96028277e-03,\n",
      "        2.81732009e-02, -2.13344235e-02, -3.77622782e-02, -2.27153474e-02,\n",
      "        5.60920934e-02,  4.30222780e-03,  3.63268282e-02, -3.72252835e-02,\n",
      "       -4.53949703e-02,  5.85438326e-02,  1.51176454e-02,  1.58622235e-02,\n",
      "        7.37733569e-02, -2.13885960e-02,  3.21582289e-02,  4.98212669e-02,\n",
      "        1.01769593e-01, -1.24236384e-02,  1.43237995e-02, -9.48454441e-02,\n",
      "       -2.63608568e-02, -8.66006143e-03, -9.82906362e-03,  7.52736807e-02,\n",
      "        3.69446505e-02,  3.14539825e-02,  1.04802417e-03,  3.11805552e-02,\n",
      "        1.28968528e-02,  2.60712960e-02, -4.77127527e-02, -2.55665519e-02,\n",
      "        1.08133168e-02,  1.03259648e-02,  3.39032672e-02,  2.75457546e-03,\n",
      "       -4.14581975e-02, -1.88645038e-02, -7.76500229e-03, -2.58755756e-02,\n",
      "       -1.52597818e-02,  3.38669504e-02,  6.38997744e-02,  3.95947435e-02,\n",
      "        6.39279292e-02, -5.20339416e-02, -6.02775749e-02,  1.38304883e-02,\n",
      "       -3.38930542e-02,  8.20155107e-03,  4.29572384e-02,  2.78503562e-02,\n",
      "        4.60315664e-02,  3.15629249e-02, -6.26106772e-02, -2.00963977e-02,\n",
      "       -2.12951097e-02,  7.16958758e-03, -2.15068628e-02,  2.82382253e-02,\n",
      "       -5.88513367e-02, -9.00752289e-02, -4.32892099e-02,  1.63749746e-02,\n",
      "       -6.45089986e-02, -7.18055995e-02,  2.46501102e-02, -2.64173842e-02,\n",
      "        3.86115388e-02,  1.27169829e-02,  8.03683932e-04,  8.49159412e-02,\n",
      "        1.61136346e-02, -4.81793069e-03,  2.04594927e-02,  1.67128712e-02,\n",
      "       -3.03005863e-02, -1.24896949e-02, -3.63357823e-02,  1.44468406e-03,\n",
      "       -4.16270511e-02, -1.42457154e-02, -8.83564965e-02,  6.22003648e-03,\n",
      "       -2.39217201e-02, -7.03374663e-02, -1.11459902e-02,  1.11177868e-01,\n",
      "        6.87284531e-03, -7.54896069e-02, -1.73166867e-02,  6.21763649e-02,\n",
      "        4.25541939e-02, -1.69422642e-02, -1.63471669e-02, -3.44401651e-02,\n",
      "        4.77697994e-02,  2.33155253e-02,  8.94857807e-02,  1.42584158e-02,\n",
      "        1.43973286e-02, -5.88510463e-02,  3.24905991e-02, -3.99427355e-02,\n",
      "        4.31553720e-02, -7.62966767e-04,  1.45724823e-04, -1.85997934e-02,\n",
      "        1.81445639e-02,  1.57167323e-02,  1.29852567e-02, -5.66555434e-02,\n",
      "       -5.92251899e-02,  2.17671564e-02, -1.70178634e-02,  2.31958844e-02,\n",
      "        5.17287978e-02,  3.37852357e-03, -4.31143220e-02, -4.11303184e-02,\n",
      "       -3.27946600e-02,  2.10255415e-02,  4.65154995e-02, -7.14069570e-02,\n",
      "        6.12375046e-02,  5.74542407e-02, -1.79589864e-02,  7.42589102e-02,\n",
      "       -7.82925693e-03,  2.00935698e-02, -4.51636280e-02, -8.47053066e-03,\n",
      "       -4.02671077e-02, -3.99867333e-02, -7.70418962e-02, -1.81935720e-02,\n",
      "        2.48719902e-02,  1.00413723e-02,  5.88155163e-02,  1.62364701e-02,\n",
      "        6.73376093e-02,  1.34455382e-02, -3.37173864e-02, -7.30230132e-02,\n",
      "       -6.79930495e-02, -2.74973175e-02, -3.99597429e-02,  2.44650541e-02,\n",
      "        1.31535470e-02,  2.45555269e-03, -3.60949523e-02,  2.72917885e-02,\n",
      "        6.22414397e-02,  7.20205201e-03,  2.80186609e-02, -3.16789369e-02,\n",
      "        5.00258107e-02,  3.00860462e-02,  7.12026690e-03, -3.76218147e-02,\n",
      "       -4.77905729e-02,  3.03309869e-02, -7.07371675e-02,  4.68780889e-02,\n",
      "        2.32905971e-02, -8.25114111e-02,  2.57833901e-02, -8.21667039e-03,\n",
      "        1.05564395e-01, -9.76066947e-02,  3.49954073e-02,  2.96988233e-02,\n",
      "        6.05656904e-02,  9.99905735e-02,  6.00288428e-02, -2.74579450e-02,\n",
      "       -3.83101713e-02,  4.98680298e-02,  9.85789597e-03,  5.27928534e-02,\n",
      "       -4.71740369e-02,  2.29060989e-02, -1.41790544e-02, -2.21464692e-03,\n",
      "       -1.27322435e-02, -1.00020026e-01,  2.18197701e-02,  2.71504708e-02,\n",
      "        3.33837397e-02, -2.58465352e-02, -3.42772816e-02, -1.70145765e-02,\n",
      "        8.48109567e-03,  2.40059592e-02,  5.04427588e-02, -7.67204395e-03,\n",
      "        6.80716564e-02, -1.75598104e-02, -1.96400712e-02, -8.53397722e-02,\n",
      "       -3.29058231e-03,  4.06993972e-02,  9.23691905e-02,  1.29570366e-02,\n",
      "        5.61266582e-02,  4.19531912e-02, -5.81196661e-02,  9.31649721e-02,\n",
      "       -8.03499849e-02, -5.46838976e-02, -6.23098318e-02, -8.77602542e-02,\n",
      "       -3.27637897e-02, -3.68524149e-02,  2.54525094e-02, -3.51777423e-03,\n",
      "        6.20159263e-02,  3.89112341e-02, -4.91863643e-02, -6.71836545e-02,\n",
      "       -1.25448801e-02, -3.02974446e-02, -4.00670706e-02,  4.24238896e-02,\n",
      "        2.46685660e-02, -4.83336472e-02,  6.88141213e-02,  4.17306214e-02,\n",
      "        4.73113096e-02, -7.63803396e-02,  1.48983871e-02,  4.59311399e-02,\n",
      "       -2.27894396e-02,  7.15364363e-02, -2.08668285e-02, -4.33650142e-02,\n",
      "       -7.64807926e-02,  7.62217098e-02,  3.91963043e-02,  1.22587398e-02])]\n"
     ]
    }
   ],
   "source": [
    "model = TextEmbedding(model_name=\"jinaai/jina-embeddings-v2-small-en\")\n",
    "embeddings_list = list(model.embed(documents=[query]))\n",
    "print(embeddings_list)"
   ]
  },
  {
   "cell_type": "code",
   "execution_count": 4,
   "id": "83139bca",
   "metadata": {},
   "outputs": [
    {
     "data": {
      "text/plain": [
       "512"
      ]
     },
     "execution_count": 4,
     "metadata": {},
     "output_type": "execute_result"
    }
   ],
   "source": [
    "len(embeddings_list[0])"
   ]
  },
  {
   "cell_type": "code",
   "execution_count": 5,
   "id": "25745807",
   "metadata": {},
   "outputs": [
    {
     "data": {
      "text/plain": [
       "-0.11726373551188797"
      ]
     },
     "execution_count": 5,
     "metadata": {},
     "output_type": "execute_result"
    }
   ],
   "source": [
    "min(embeddings_list[0])"
   ]
  },
  {
   "cell_type": "code",
   "execution_count": 6,
   "id": "21a3cea4",
   "metadata": {
    "scrolled": true
   },
   "outputs": [
    {
     "data": {
      "text/plain": [
       "1.0000000000000002"
      ]
     },
     "execution_count": 6,
     "metadata": {},
     "output_type": "execute_result"
    }
   ],
   "source": [
    "np.linalg.norm(embeddings_list[0])"
   ]
  },
  {
   "cell_type": "code",
   "execution_count": 7,
   "id": "fbd7b919",
   "metadata": {},
   "outputs": [
    {
     "data": {
      "text/plain": [
       "1.0000000000000004"
      ]
     },
     "execution_count": 7,
     "metadata": {},
     "output_type": "execute_result"
    }
   ],
   "source": [
    "embeddings_list[0].dot(embeddings_list[0])"
   ]
  },
  {
   "cell_type": "code",
   "execution_count": 8,
   "id": "cd127377",
   "metadata": {},
   "outputs": [
    {
     "data": {
      "text/plain": [
       "array([-5.45303842e-02, -7.83451559e-02,  3.13610368e-02,  2.34234780e-02,\n",
       "       -3.06321471e-02, -5.51041807e-02,  2.24726400e-02,  1.50386064e-02,\n",
       "       -1.81159666e-02,  1.80595501e-02, -4.80892448e-03, -7.57395732e-02,\n",
       "       -4.87271781e-03, -9.07717824e-02,  4.83940815e-02, -4.26317563e-02,\n",
       "       -2.61462484e-02, -4.48129043e-02, -2.06925913e-02, -3.79054519e-02,\n",
       "       -3.30329401e-02, -8.02849149e-03,  1.18560465e-02, -3.83721264e-02,\n",
       "        7.26378224e-02, -5.82811781e-02, -7.30890272e-02,  3.40911348e-02,\n",
       "        5.60705265e-02,  5.02684782e-02, -5.99293398e-02,  5.33016466e-02,\n",
       "       -1.79524451e-02,  4.17740703e-03, -2.45427802e-02,  1.32288266e-02,\n",
       "        4.64178209e-02,  1.09963666e-02, -1.01499828e-02, -5.77524233e-03,\n",
       "       -2.83980980e-04,  4.91496207e-02,  1.11214862e-01, -2.76306376e-02,\n",
       "       -6.78923754e-02, -1.85928202e-02, -1.23963197e-01,  1.25745751e-02,\n",
       "        1.65298755e-02,  7.22239641e-03, -2.77237530e-02,  5.18073762e-02,\n",
       "       -5.98604686e-02,  5.27339509e-02,  1.03844019e-02,  4.82091258e-02,\n",
       "       -2.29023257e-02,  1.58800053e-02, -4.80511440e-02,  1.02489241e-02,\n",
       "        1.37884607e-02,  3.87445024e-02, -5.79894360e-02,  5.69139164e-02,\n",
       "       -3.15205416e-02, -2.67498644e-02, -4.48054414e-02, -4.09707552e-02,\n",
       "       -9.20447489e-02, -5.96117143e-03, -5.49335491e-02, -5.34222706e-03,\n",
       "        6.68054802e-02, -5.45217496e-02, -8.69840623e-03,  1.40446656e-02,\n",
       "       -3.96009055e-02,  3.93236692e-02, -1.96751533e-02, -1.63108917e-03,\n",
       "       -6.80347681e-03, -3.31599472e-02,  4.85879894e-03, -3.88989084e-02,\n",
       "       -3.40547486e-03, -5.19890685e-02,  3.08150594e-02, -2.70411202e-02,\n",
       "        6.88027352e-02, -8.59187335e-04, -3.05577915e-02,  8.06859958e-02,\n",
       "       -1.86169540e-02, -6.45328918e-02, -5.04276553e-02, -3.78118016e-02,\n",
       "        5.99760172e-02,  6.87334120e-02,  1.12125038e-02,  1.64547869e-02,\n",
       "        1.13036668e-01, -1.46292135e-02,  1.01782256e-01, -3.40158921e-02,\n",
       "        3.43852483e-02,  3.75869286e-02, -5.58573054e-02,  3.10792188e-03,\n",
       "       -1.16664057e-01, -9.97801123e-03,  1.49959922e-02, -6.87050773e-02,\n",
       "       -3.29115190e-02, -5.93689131e-03, -6.92624568e-02,  1.50800660e-02,\n",
       "        5.85119071e-02, -5.48487844e-02, -2.57178907e-02, -3.56007378e-02,\n",
       "        7.27502762e-05,  5.30011936e-04, -3.35285649e-02,  2.12704906e-02,\n",
       "        4.95065510e-02,  3.66363004e-02, -2.25051646e-03,  2.65128823e-02,\n",
       "       -3.22989894e-02, -6.86249928e-03, -1.34442314e-02, -8.08963243e-03,\n",
       "       -1.29107476e-02,  2.48041096e-02,  1.40144092e-01, -3.86588383e-02,\n",
       "        2.50564883e-02,  3.87349431e-02, -6.14516898e-02,  3.54396560e-02,\n",
       "       -4.25164302e-02, -6.41691303e-02,  4.63289037e-02, -3.24397452e-02,\n",
       "       -2.88255931e-02,  1.30964185e-02,  4.53634787e-02, -2.12360903e-02,\n",
       "       -5.38994102e-02, -1.28041267e-03, -2.08222687e-02,  3.93942331e-02,\n",
       "       -8.17919761e-02,  2.61447308e-02,  4.93713370e-03,  8.39671346e-02,\n",
       "       -2.85633176e-02,  4.62934353e-02,  1.30851103e-02,  4.34113018e-03,\n",
       "       -1.46118648e-02,  5.56021205e-02,  3.25519594e-03, -6.56959034e-02,\n",
       "       -1.24809936e-02, -9.01516839e-03,  4.67927529e-02,  7.14784971e-02,\n",
       "       -3.47358153e-02,  6.19007381e-03,  5.82341998e-02,  3.13632733e-02,\n",
       "       -8.91560659e-02,  2.30164964e-02, -7.31166038e-02, -2.48622051e-02,\n",
       "       -1.95076010e-02,  1.90116306e-02, -3.80645868e-02, -3.41198825e-02,\n",
       "        5.10553601e-02, -3.43794827e-02, -2.66988943e-02,  9.70198637e-03,\n",
       "        1.08240228e-02, -7.85933936e-02, -3.84566629e-02,  1.56839180e-02,\n",
       "        3.80449051e-02, -2.26454171e-02, -4.78610148e-03,  1.15100450e-02,\n",
       "        3.60982276e-03, -1.89996778e-02, -1.79271947e-02,  3.68780782e-02,\n",
       "       -2.10015570e-02,  2.36492840e-02,  1.40563859e-02,  3.52254721e-03,\n",
       "        2.71353969e-02,  7.65226561e-02, -6.01290826e-02,  3.05162582e-02,\n",
       "       -4.58806703e-02,  2.24898510e-02, -2.50920705e-02, -5.63759300e-02,\n",
       "       -2.29451635e-02, -4.27855753e-03,  3.57165265e-02, -3.55258758e-03,\n",
       "        8.91507682e-02,  2.12670487e-02, -3.74752435e-04, -2.24271537e-02,\n",
       "       -2.19664472e-02, -4.18971025e-02,  2.65568135e-02, -3.93783699e-02,\n",
       "       -1.68302256e-03,  1.26468397e-02,  4.43984010e-03,  5.05578797e-02,\n",
       "       -2.44747185e-02, -3.94392550e-02,  1.52638152e-02,  1.28973307e-02,\n",
       "       -3.15464770e-03, -4.72593099e-02,  1.17825069e-01, -5.25536616e-02,\n",
       "       -5.32448363e-02,  1.05159552e-02,  4.58077094e-02, -2.47739658e-02,\n",
       "       -2.57603415e-03, -2.19756049e-02, -3.87667788e-02, -1.36106487e-02,\n",
       "       -4.98464325e-02,  6.12116132e-03,  5.66379529e-02, -3.23384535e-02,\n",
       "        1.20037201e-03,  3.52746080e-02,  5.16079130e-02, -3.62631388e-02,\n",
       "        5.62710601e-02,  5.33073668e-02, -3.63443041e-02, -4.03703357e-02,\n",
       "       -3.61991205e-02, -6.26061030e-02, -8.31568295e-03,  4.13882129e-02,\n",
       "       -2.88730338e-02,  5.22493947e-02, -7.34402193e-02, -3.53566409e-02,\n",
       "        2.09848603e-02,  6.31085573e-02,  4.60986585e-03,  9.63700723e-02,\n",
       "       -9.67374316e-03, -8.95209294e-03, -7.69226898e-02, -9.60893452e-03,\n",
       "        2.14770049e-02,  2.30009160e-02,  3.10541658e-03,  5.05151651e-03,\n",
       "        1.63936708e-02, -2.06680928e-02, -6.06017679e-02, -3.03883182e-02,\n",
       "        4.96442251e-02,  2.03350354e-02,  3.66350091e-02, -3.95295640e-02,\n",
       "       -5.11060132e-02,  3.16693253e-02,  4.38044482e-03,  2.21187849e-02,\n",
       "        5.62609027e-02, -1.41864926e-02,  3.59695790e-02,  7.59520721e-02,\n",
       "        1.06047263e-01,  1.45019750e-03,  6.03234355e-03, -9.00573601e-02,\n",
       "       -5.01265566e-03, -3.23071349e-02, -2.46833693e-03,  8.69799428e-02,\n",
       "        5.06123339e-02,  2.36965436e-02,  8.11534014e-03,  5.54493595e-02,\n",
       "        1.77999439e-02,  3.11200022e-02, -3.55622539e-02, -2.52925039e-02,\n",
       "        2.31455241e-02,  1.59941137e-02,  3.10115272e-02, -1.54522184e-02,\n",
       "       -1.63243419e-02, -6.25963631e-02,  5.73596825e-03, -4.68481125e-02,\n",
       "       -2.48465741e-02,  4.29610434e-02,  5.32248846e-02,  1.77272574e-03,\n",
       "        3.37805582e-02, -8.39864997e-02, -5.38050559e-02,  1.18949377e-02,\n",
       "       -6.61883336e-03, -3.89602025e-02,  5.77476096e-02,  2.07156311e-02,\n",
       "        3.59911779e-02,  5.05872255e-02, -6.44578709e-02,  3.32005735e-03,\n",
       "        1.10723353e-02, -1.86581876e-02, -1.85738218e-02,  1.27307885e-03,\n",
       "       -4.62866789e-02, -7.17191866e-02, -4.19461522e-02, -1.31517150e-03,\n",
       "       -2.92806256e-02, -8.03236332e-02,  1.29327137e-02, -3.37090893e-02,\n",
       "        2.93104116e-02, -3.75803612e-03, -1.44847265e-03,  1.00548274e-01,\n",
       "       -1.00564825e-02, -2.46266236e-02,  4.05391975e-02,  3.35887795e-03,\n",
       "       -5.34469565e-02, -2.54327983e-02, -1.52543696e-02, -1.43709384e-02,\n",
       "       -1.85677189e-02, -2.13970535e-03, -8.73001680e-02, -1.60633764e-02,\n",
       "        3.02461589e-02, -3.49063020e-02, -2.25649452e-02,  1.00616120e-01,\n",
       "        3.00223322e-03, -5.50977568e-02, -2.35539047e-02,  9.52522384e-02,\n",
       "        6.92015615e-02, -2.18485185e-02,  2.49095644e-04, -3.49070651e-02,\n",
       "        4.73735605e-02,  3.60143401e-02,  8.32714851e-02,  4.12549430e-02,\n",
       "        2.54143423e-02, -4.85554988e-02,  2.74004043e-02, -3.80426798e-02,\n",
       "        5.91277760e-02,  2.53244883e-02, -3.36910601e-02, -1.90901457e-02,\n",
       "        2.96261725e-02,  2.43380838e-02, -2.39162682e-02, -4.51288525e-02,\n",
       "       -2.72568507e-02,  1.09330540e-02,  1.86310681e-02, -1.84972995e-03,\n",
       "        9.46876903e-03, -1.15559244e-02, -2.49243982e-02, -3.50724493e-02,\n",
       "       -4.03738660e-02,  4.19630618e-02,  6.67691087e-02, -7.30262162e-02,\n",
       "        7.56360540e-02,  6.06346487e-02, -1.56065496e-03,  2.90626495e-02,\n",
       "       -1.98713030e-02,  2.15630883e-02, -3.38016288e-02, -7.29602364e-03,\n",
       "       -2.44389198e-02, -1.63480428e-02, -7.87498949e-02, -2.56954668e-02,\n",
       "        1.40306676e-02,  3.25407987e-03,  5.29974470e-02,  1.83844522e-02,\n",
       "        3.41865762e-02,  3.95536729e-02, -3.88303123e-02, -7.36927402e-02,\n",
       "       -9.04139932e-02, -4.75587446e-02, -2.62919467e-02,  8.76068703e-03,\n",
       "        1.85204558e-02,  5.71211710e-03, -2.31337596e-02,  3.00751563e-02,\n",
       "        5.58852897e-02,  6.04650263e-03,  4.20380049e-02, -4.43148524e-02,\n",
       "        6.09016256e-02,  2.15545986e-02, -1.55159158e-02, -5.18127192e-02,\n",
       "       -2.88612007e-02,  4.96420743e-02, -1.73781693e-02,  2.22649678e-02,\n",
       "        1.84093184e-02, -5.65759419e-02,  5.26079869e-02, -4.37272827e-03,\n",
       "        9.75568453e-02, -8.76182579e-02,  3.84923470e-02,  3.43069279e-02,\n",
       "        1.00228251e-01,  8.32310580e-02,  1.39729758e-02, -2.92088205e-02,\n",
       "       -2.64612622e-02,  4.50595714e-02,  4.50768114e-02,  6.56265434e-02,\n",
       "       -2.57148539e-02,  4.38141209e-02, -9.09201660e-03,  3.24566836e-02,\n",
       "       -1.00524112e-02, -1.22899844e-01,  2.63783214e-02,  4.24369490e-02,\n",
       "        4.16517042e-02, -5.68288794e-02, -9.15504976e-02,  1.93085782e-02,\n",
       "       -1.13468094e-02, -1.24219291e-02,  2.57254798e-02,  3.38115532e-02,\n",
       "        1.95534878e-02, -9.04632225e-03,  4.81676761e-03, -6.69664771e-02,\n",
       "        1.04125509e-03,  2.12351940e-02,  9.02697281e-02,  3.46080759e-02,\n",
       "        5.17977475e-02,  4.47683072e-02, -6.94026424e-02,  9.75395505e-02,\n",
       "       -4.64396258e-02, -6.05067750e-02, -7.17751448e-02, -6.16598762e-02,\n",
       "       -4.22837150e-02,  6.49310076e-04,  1.48002627e-02, -4.33543806e-03,\n",
       "        9.91974223e-02,  2.36802513e-02, -5.63739917e-02, -6.30382821e-02,\n",
       "        6.47438623e-03, -2.77447539e-02, -4.93520928e-02,  8.95175828e-03,\n",
       "        6.34117009e-03, -3.77701326e-02,  8.46668697e-02,  3.98892385e-02,\n",
       "        4.74573182e-02, -7.41830462e-02,  4.04689431e-02,  6.57271519e-02,\n",
       "       -1.06213989e-02,  2.96078141e-02, -6.05322323e-03, -3.26904189e-02,\n",
       "       -7.25063582e-02,  7.73107362e-02,  5.61754045e-02,  6.20516392e-03])"
      ]
     },
     "execution_count": 8,
     "metadata": {},
     "output_type": "execute_result"
    }
   ],
   "source": [
    "doc = 'Can I still join the course after the start date?'\n",
    "doc_embeddings = list(model.embed(documents=[doc]))\n",
    "doc_embeddings[0]"
   ]
  },
  {
   "cell_type": "code",
   "execution_count": 9,
   "id": "b020032a",
   "metadata": {},
   "outputs": [
    {
     "data": {
      "text/plain": [
       "0.9008528856818033"
      ]
     },
     "execution_count": 9,
     "metadata": {},
     "output_type": "execute_result"
    }
   ],
   "source": [
    "embeddings_list[0].dot(doc_embeddings[0])"
   ]
  },
  {
   "cell_type": "code",
   "execution_count": 10,
   "id": "f972d421",
   "metadata": {},
   "outputs": [],
   "source": [
    "documents = [{'text': \"Yes, even if you don't register, you're still eligible to submit the homeworks.\\nBe aware, however, that there will be deadlines for turning in the final projects. So don't leave everything for the last minute.\",\n",
    "  'section': 'General course-related questions',\n",
    "  'question': 'Course - Can I still join the course after the start date?',\n",
    "  'course': 'data-engineering-zoomcamp'},\n",
    " {'text': 'Yes, we will keep all the materials after the course finishes, so you can follow the course at your own pace after it finishes.\\nYou can also continue looking at the homeworks and continue preparing for the next cohort. I guess you can also start working on your final capstone project.',\n",
    "  'section': 'General course-related questions',\n",
    "  'question': 'Course - Can I follow the course after it finishes?',\n",
    "  'course': 'data-engineering-zoomcamp'},\n",
    " {'text': \"The purpose of this document is to capture frequently asked technical questions\\nThe exact day and hour of the course will be 15th Jan 2024 at 17h00. The course will start with the first  “Office Hours'' live.1\\nSubscribe to course public Google Calendar (it works from Desktop only).\\nRegister before the course starts using this link.\\nJoin the course Telegram channel with announcements.\\nDon’t forget to register in DataTalks.Club's Slack and join the channel.\",\n",
    "  'section': 'General course-related questions',\n",
    "  'question': 'Course - When will the course start?',\n",
    "  'course': 'data-engineering-zoomcamp'},\n",
    " {'text': 'You can start by installing and setting up all the dependencies and requirements:\\nGoogle cloud account\\nGoogle Cloud SDK\\nPython 3 (installed with Anaconda)\\nTerraform\\nGit\\nLook over the prerequisites and syllabus to see if you are comfortable with these subjects.',\n",
    "  'section': 'General course-related questions',\n",
    "  'question': 'Course - What can I do before the course starts?',\n",
    "  'course': 'data-engineering-zoomcamp'},\n",
    " {'text': 'Star the repo! Share it with friends if you find it useful ❣️\\nCreate a PR if you see you can improve the text or the structure of the repository.',\n",
    "  'section': 'General course-related questions',\n",
    "  'question': 'How can we contribute to the course?',\n",
    "  'course': 'data-engineering-zoomcamp'}]"
   ]
  },
  {
   "cell_type": "code",
   "execution_count": 11,
   "id": "9ad564eb",
   "metadata": {},
   "outputs": [
    {
     "data": {
      "text/plain": [
       "5"
      ]
     },
     "execution_count": 11,
     "metadata": {},
     "output_type": "execute_result"
    }
   ],
   "source": [
    "document_embeddings = list(model.embed(documents=[doc[\"text\"] for doc in documents]))\n",
    "len(document_embeddings)"
   ]
  },
  {
   "cell_type": "code",
   "execution_count": 27,
   "id": "e6d24b08",
   "metadata": {},
   "outputs": [
    {
     "name": "stdout",
     "output_type": "stream",
     "text": [
      "[0.7629684493123694, 0.8182378361919106, 0.808539729076283, 0.713307853959773, 0.7304499528359611]\n",
      "1\n"
     ]
    }
   ],
   "source": [
    "print([embeddings_list[0].dot(doc_embedding) for doc_embedding in document_embeddings])\n",
    "print(np.argmax([embeddings_list[0].dot(doc_embedding) for doc_embedding in document_embeddings]))"
   ]
  },
  {
   "cell_type": "code",
   "execution_count": 13,
   "id": "1a66323d",
   "metadata": {},
   "outputs": [
    {
     "name": "stdout",
     "output_type": "stream",
     "text": [
      "[\"Course - Can I still join the course after the start date? Yes, even if you don't register, you're still eligible to submit the homeworks.\\nBe aware, however, that there will be deadlines for turning in the final projects. So don't leave everything for the last minute.\", 'Course - Can I follow the course after it finishes? Yes, we will keep all the materials after the course finishes, so you can follow the course at your own pace after it finishes.\\nYou can also continue looking at the homeworks and continue preparing for the next cohort. I guess you can also start working on your final capstone project.', \"Course - When will the course start? The purpose of this document is to capture frequently asked technical questions\\nThe exact day and hour of the course will be 15th Jan 2024 at 17h00. The course will start with the first  “Office Hours'' live.1\\nSubscribe to course public Google Calendar (it works from Desktop only).\\nRegister before the course starts using this link.\\nJoin the course Telegram channel with announcements.\\nDon’t forget to register in DataTalks.Club's Slack and join the channel.\", 'Course - What can I do before the course starts? You can start by installing and setting up all the dependencies and requirements:\\nGoogle cloud account\\nGoogle Cloud SDK\\nPython 3 (installed with Anaconda)\\nTerraform\\nGit\\nLook over the prerequisites and syllabus to see if you are comfortable with these subjects.', 'How can we contribute to the course? Star the repo! Share it with friends if you find it useful ❣️\\nCreate a PR if you see you can improve the text or the structure of the repository.']\n"
     ]
    }
   ],
   "source": [
    "full_text = [doc['question'] + ' ' + doc['text'] for doc in documents]\n",
    "print(full_text)"
   ]
  },
  {
   "cell_type": "code",
   "execution_count": 14,
   "id": "84512369",
   "metadata": {},
   "outputs": [],
   "source": [
    "full_text_embeddings = list(model.embed(full_text))"
   ]
  },
  {
   "cell_type": "code",
   "execution_count": 20,
   "id": "2cfa690b",
   "metadata": {},
   "outputs": [
    {
     "data": {
      "text/plain": [
       "(5, 512)"
      ]
     },
     "execution_count": 20,
     "metadata": {},
     "output_type": "execute_result"
    }
   ],
   "source": [
    "np.shape(full_text_embeddings)"
   ]
  },
  {
   "cell_type": "code",
   "execution_count": 21,
   "id": "e060bda4",
   "metadata": {},
   "outputs": [
    {
     "data": {
      "text/plain": [
       "(1, 512)"
      ]
     },
     "execution_count": 21,
     "metadata": {},
     "output_type": "execute_result"
    }
   ],
   "source": [
    "np.shape(embeddings_list)"
   ]
  },
  {
   "cell_type": "code",
   "execution_count": 26,
   "id": "179c206a",
   "metadata": {
    "scrolled": true
   },
   "outputs": [
    {
     "name": "stdout",
     "output_type": "stream",
     "text": [
      "[0.8514543  0.84365941 0.84082872 0.77551577 0.80860079]\n",
      "0\n"
     ]
    }
   ],
   "source": [
    "print(embeddings_list[0].dot(np.transpose(full_text_embeddings)))\n",
    "print(np.argmax(embeddings_list[0].dot(np.transpose(full_text_embeddings))))"
   ]
  },
  {
   "cell_type": "code",
   "execution_count": 35,
   "id": "1901ef34",
   "metadata": {
    "scrolled": false
   },
   "outputs": [],
   "source": [
    "try:\n",
    "    response = requests.get('https://github.com/alexeygrigorev/llm-rag-workshop/raw/main/notebooks/documents.json')\n",
    "except exception as e:\n",
    "    print(f\"Failed to fetch documents due to: {e}\")\n",
    "else:\n",
    "    response_json = response.json()"
   ]
  },
  {
   "cell_type": "code",
   "execution_count": 31,
   "id": "c7cc82c4",
   "metadata": {},
   "outputs": [
    {
     "data": {
      "text/plain": [
       "[{'model': 'BAAI/bge-base-en',\n",
       "  'sources': {'hf': 'Qdrant/fast-bge-base-en',\n",
       "   'url': 'https://storage.googleapis.com/qdrant-fastembed/fast-bge-base-en.tar.gz',\n",
       "   '_deprecated_tar_struct': True},\n",
       "  'model_file': 'model_optimized.onnx',\n",
       "  'description': 'Text embeddings, Unimodal (text), English, 512 input tokens truncation, Prefixes for queries/documents: necessary, 2023 year.',\n",
       "  'license': 'mit',\n",
       "  'size_in_GB': 0.42,\n",
       "  'additional_files': [],\n",
       "  'dim': 768,\n",
       "  'tasks': {}},\n",
       " {'model': 'BAAI/bge-base-en-v1.5',\n",
       "  'sources': {'hf': 'qdrant/bge-base-en-v1.5-onnx-q',\n",
       "   'url': 'https://storage.googleapis.com/qdrant-fastembed/fast-bge-base-en-v1.5.tar.gz',\n",
       "   '_deprecated_tar_struct': True},\n",
       "  'model_file': 'model_optimized.onnx',\n",
       "  'description': 'Text embeddings, Unimodal (text), English, 512 input tokens truncation, Prefixes for queries/documents: not so necessary, 2023 year.',\n",
       "  'license': 'mit',\n",
       "  'size_in_GB': 0.21,\n",
       "  'additional_files': [],\n",
       "  'dim': 768,\n",
       "  'tasks': {}},\n",
       " {'model': 'BAAI/bge-large-en-v1.5',\n",
       "  'sources': {'hf': 'qdrant/bge-large-en-v1.5-onnx',\n",
       "   'url': None,\n",
       "   '_deprecated_tar_struct': False},\n",
       "  'model_file': 'model.onnx',\n",
       "  'description': 'Text embeddings, Unimodal (text), English, 512 input tokens truncation, Prefixes for queries/documents: not so necessary, 2023 year.',\n",
       "  'license': 'mit',\n",
       "  'size_in_GB': 1.2,\n",
       "  'additional_files': [],\n",
       "  'dim': 1024,\n",
       "  'tasks': {}},\n",
       " {'model': 'BAAI/bge-small-en',\n",
       "  'sources': {'hf': 'Qdrant/bge-small-en',\n",
       "   'url': 'https://storage.googleapis.com/qdrant-fastembed/BAAI-bge-small-en.tar.gz',\n",
       "   '_deprecated_tar_struct': True},\n",
       "  'model_file': 'model_optimized.onnx',\n",
       "  'description': 'Text embeddings, Unimodal (text), English, 512 input tokens truncation, Prefixes for queries/documents: necessary, 2023 year.',\n",
       "  'license': 'mit',\n",
       "  'size_in_GB': 0.13,\n",
       "  'additional_files': [],\n",
       "  'dim': 384,\n",
       "  'tasks': {}},\n",
       " {'model': 'BAAI/bge-small-en-v1.5',\n",
       "  'sources': {'hf': 'qdrant/bge-small-en-v1.5-onnx-q',\n",
       "   'url': None,\n",
       "   '_deprecated_tar_struct': False},\n",
       "  'model_file': 'model_optimized.onnx',\n",
       "  'description': 'Text embeddings, Unimodal (text), English, 512 input tokens truncation, Prefixes for queries/documents: not so necessary, 2023 year.',\n",
       "  'license': 'mit',\n",
       "  'size_in_GB': 0.067,\n",
       "  'additional_files': [],\n",
       "  'dim': 384,\n",
       "  'tasks': {}},\n",
       " {'model': 'BAAI/bge-small-zh-v1.5',\n",
       "  'sources': {'hf': 'Qdrant/bge-small-zh-v1.5',\n",
       "   'url': 'https://storage.googleapis.com/qdrant-fastembed/fast-bge-small-zh-v1.5.tar.gz',\n",
       "   '_deprecated_tar_struct': True},\n",
       "  'model_file': 'model_optimized.onnx',\n",
       "  'description': 'Text embeddings, Unimodal (text), Chinese, 512 input tokens truncation, Prefixes for queries/documents: not so necessary, 2023 year.',\n",
       "  'license': 'mit',\n",
       "  'size_in_GB': 0.09,\n",
       "  'additional_files': [],\n",
       "  'dim': 512,\n",
       "  'tasks': {}},\n",
       " {'model': 'mixedbread-ai/mxbai-embed-large-v1',\n",
       "  'sources': {'hf': 'mixedbread-ai/mxbai-embed-large-v1',\n",
       "   'url': None,\n",
       "   '_deprecated_tar_struct': False},\n",
       "  'model_file': 'onnx/model.onnx',\n",
       "  'description': 'Text embeddings, Unimodal (text), English, 512 input tokens truncation, Prefixes for queries/documents: necessary, 2024 year.',\n",
       "  'license': 'apache-2.0',\n",
       "  'size_in_GB': 0.64,\n",
       "  'additional_files': [],\n",
       "  'dim': 1024,\n",
       "  'tasks': {}},\n",
       " {'model': 'snowflake/snowflake-arctic-embed-xs',\n",
       "  'sources': {'hf': 'snowflake/snowflake-arctic-embed-xs',\n",
       "   'url': None,\n",
       "   '_deprecated_tar_struct': False},\n",
       "  'model_file': 'onnx/model.onnx',\n",
       "  'description': 'Text embeddings, Unimodal (text), English, 512 input tokens truncation, Prefixes for queries/documents: necessary, 2024 year.',\n",
       "  'license': 'apache-2.0',\n",
       "  'size_in_GB': 0.09,\n",
       "  'additional_files': [],\n",
       "  'dim': 384,\n",
       "  'tasks': {}},\n",
       " {'model': 'snowflake/snowflake-arctic-embed-s',\n",
       "  'sources': {'hf': 'snowflake/snowflake-arctic-embed-s',\n",
       "   'url': None,\n",
       "   '_deprecated_tar_struct': False},\n",
       "  'model_file': 'onnx/model.onnx',\n",
       "  'description': 'Text embeddings, Unimodal (text), English, 512 input tokens truncation, Prefixes for queries/documents: necessary, 2024 year.',\n",
       "  'license': 'apache-2.0',\n",
       "  'size_in_GB': 0.13,\n",
       "  'additional_files': [],\n",
       "  'dim': 384,\n",
       "  'tasks': {}},\n",
       " {'model': 'snowflake/snowflake-arctic-embed-m',\n",
       "  'sources': {'hf': 'Snowflake/snowflake-arctic-embed-m',\n",
       "   'url': None,\n",
       "   '_deprecated_tar_struct': False},\n",
       "  'model_file': 'onnx/model.onnx',\n",
       "  'description': 'Text embeddings, Unimodal (text), English, 512 input tokens truncation, Prefixes for queries/documents: necessary, 2024 year.',\n",
       "  'license': 'apache-2.0',\n",
       "  'size_in_GB': 0.43,\n",
       "  'additional_files': [],\n",
       "  'dim': 768,\n",
       "  'tasks': {}},\n",
       " {'model': 'snowflake/snowflake-arctic-embed-m-long',\n",
       "  'sources': {'hf': 'snowflake/snowflake-arctic-embed-m-long',\n",
       "   'url': None,\n",
       "   '_deprecated_tar_struct': False},\n",
       "  'model_file': 'onnx/model.onnx',\n",
       "  'description': 'Text embeddings, Unimodal (text), English, 2048 input tokens truncation, Prefixes for queries/documents: necessary, 2024 year.',\n",
       "  'license': 'apache-2.0',\n",
       "  'size_in_GB': 0.54,\n",
       "  'additional_files': [],\n",
       "  'dim': 768,\n",
       "  'tasks': {}},\n",
       " {'model': 'snowflake/snowflake-arctic-embed-l',\n",
       "  'sources': {'hf': 'snowflake/snowflake-arctic-embed-l',\n",
       "   'url': None,\n",
       "   '_deprecated_tar_struct': False},\n",
       "  'model_file': 'onnx/model.onnx',\n",
       "  'description': 'Text embeddings, Unimodal (text), English, 512 input tokens truncation, Prefixes for queries/documents: necessary, 2024 year.',\n",
       "  'license': 'apache-2.0',\n",
       "  'size_in_GB': 1.02,\n",
       "  'additional_files': [],\n",
       "  'dim': 1024,\n",
       "  'tasks': {}},\n",
       " {'model': 'jinaai/jina-clip-v1',\n",
       "  'sources': {'hf': 'jinaai/jina-clip-v1',\n",
       "   'url': None,\n",
       "   '_deprecated_tar_struct': False},\n",
       "  'model_file': 'onnx/text_model.onnx',\n",
       "  'description': 'Text embeddings, Multimodal (text&image), English, Prefixes for queries/documents: not necessary, 2024 year',\n",
       "  'license': 'apache-2.0',\n",
       "  'size_in_GB': 0.55,\n",
       "  'additional_files': [],\n",
       "  'dim': 768,\n",
       "  'tasks': {}},\n",
       " {'model': 'Qdrant/clip-ViT-B-32-text',\n",
       "  'sources': {'hf': 'Qdrant/clip-ViT-B-32-text',\n",
       "   'url': None,\n",
       "   '_deprecated_tar_struct': False},\n",
       "  'model_file': 'model.onnx',\n",
       "  'description': 'Text embeddings, Multimodal (text&image), English, 77 input tokens truncation, Prefixes for queries/documents: not necessary, 2021 year',\n",
       "  'license': 'mit',\n",
       "  'size_in_GB': 0.25,\n",
       "  'additional_files': [],\n",
       "  'dim': 512,\n",
       "  'tasks': {}},\n",
       " {'model': 'sentence-transformers/all-MiniLM-L6-v2',\n",
       "  'sources': {'hf': 'qdrant/all-MiniLM-L6-v2-onnx',\n",
       "   'url': 'https://storage.googleapis.com/qdrant-fastembed/sentence-transformers-all-MiniLM-L6-v2.tar.gz',\n",
       "   '_deprecated_tar_struct': True},\n",
       "  'model_file': 'model.onnx',\n",
       "  'description': 'Text embeddings, Unimodal (text), English, 256 input tokens truncation, Prefixes for queries/documents: not necessary, 2021 year.',\n",
       "  'license': 'apache-2.0',\n",
       "  'size_in_GB': 0.09,\n",
       "  'additional_files': [],\n",
       "  'dim': 384,\n",
       "  'tasks': {}},\n",
       " {'model': 'jinaai/jina-embeddings-v2-base-en',\n",
       "  'sources': {'hf': 'xenova/jina-embeddings-v2-base-en',\n",
       "   'url': None,\n",
       "   '_deprecated_tar_struct': False},\n",
       "  'model_file': 'onnx/model.onnx',\n",
       "  'description': 'Text embeddings, Unimodal (text), English, 8192 input tokens truncation, Prefixes for queries/documents: not necessary, 2023 year.',\n",
       "  'license': 'apache-2.0',\n",
       "  'size_in_GB': 0.52,\n",
       "  'additional_files': [],\n",
       "  'dim': 768,\n",
       "  'tasks': {}},\n",
       " {'model': 'jinaai/jina-embeddings-v2-small-en',\n",
       "  'sources': {'hf': 'xenova/jina-embeddings-v2-small-en',\n",
       "   'url': None,\n",
       "   '_deprecated_tar_struct': False},\n",
       "  'model_file': 'onnx/model.onnx',\n",
       "  'description': 'Text embeddings, Unimodal (text), English, 8192 input tokens truncation, Prefixes for queries/documents: not necessary, 2023 year.',\n",
       "  'license': 'apache-2.0',\n",
       "  'size_in_GB': 0.12,\n",
       "  'additional_files': [],\n",
       "  'dim': 512,\n",
       "  'tasks': {}},\n",
       " {'model': 'jinaai/jina-embeddings-v2-base-de',\n",
       "  'sources': {'hf': 'jinaai/jina-embeddings-v2-base-de',\n",
       "   'url': None,\n",
       "   '_deprecated_tar_struct': False},\n",
       "  'model_file': 'onnx/model_fp16.onnx',\n",
       "  'description': 'Text embeddings, Unimodal (text), Multilingual (German, English), 8192 input tokens truncation, Prefixes for queries/documents: not necessary, 2024 year.',\n",
       "  'license': 'apache-2.0',\n",
       "  'size_in_GB': 0.32,\n",
       "  'additional_files': [],\n",
       "  'dim': 768,\n",
       "  'tasks': {}},\n",
       " {'model': 'jinaai/jina-embeddings-v2-base-code',\n",
       "  'sources': {'hf': 'jinaai/jina-embeddings-v2-base-code',\n",
       "   'url': None,\n",
       "   '_deprecated_tar_struct': False},\n",
       "  'model_file': 'onnx/model.onnx',\n",
       "  'description': 'Text embeddings, Unimodal (text), Multilingual (English, 30 programming languages), 8192 input tokens truncation, Prefixes for queries/documents: not necessary, 2024 year.',\n",
       "  'license': 'apache-2.0',\n",
       "  'size_in_GB': 0.64,\n",
       "  'additional_files': [],\n",
       "  'dim': 768,\n",
       "  'tasks': {}},\n",
       " {'model': 'jinaai/jina-embeddings-v2-base-zh',\n",
       "  'sources': {'hf': 'jinaai/jina-embeddings-v2-base-zh',\n",
       "   'url': None,\n",
       "   '_deprecated_tar_struct': False},\n",
       "  'model_file': 'onnx/model.onnx',\n",
       "  'description': 'Text embeddings, Unimodal (text), supports mixed Chinese-English input text, 8192 input tokens truncation, Prefixes for queries/documents: not necessary, 2024 year.',\n",
       "  'license': 'apache-2.0',\n",
       "  'size_in_GB': 0.64,\n",
       "  'additional_files': [],\n",
       "  'dim': 768,\n",
       "  'tasks': {}},\n",
       " {'model': 'jinaai/jina-embeddings-v2-base-es',\n",
       "  'sources': {'hf': 'jinaai/jina-embeddings-v2-base-es',\n",
       "   'url': None,\n",
       "   '_deprecated_tar_struct': False},\n",
       "  'model_file': 'onnx/model.onnx',\n",
       "  'description': 'Text embeddings, Unimodal (text), supports mixed Spanish-English input text, 8192 input tokens truncation, Prefixes for queries/documents: not necessary, 2024 year.',\n",
       "  'license': 'apache-2.0',\n",
       "  'size_in_GB': 0.64,\n",
       "  'additional_files': [],\n",
       "  'dim': 768,\n",
       "  'tasks': {}},\n",
       " {'model': 'thenlper/gte-base',\n",
       "  'sources': {'hf': 'thenlper/gte-base',\n",
       "   'url': None,\n",
       "   '_deprecated_tar_struct': False},\n",
       "  'model_file': 'onnx/model.onnx',\n",
       "  'description': 'General text embeddings, Unimodal (text), supports English only input text, 512 input tokens truncation, Prefixes for queries/documents: not necessary, 2024 year.',\n",
       "  'license': 'mit',\n",
       "  'size_in_GB': 0.44,\n",
       "  'additional_files': [],\n",
       "  'dim': 768,\n",
       "  'tasks': {}},\n",
       " {'model': 'thenlper/gte-large',\n",
       "  'sources': {'hf': 'qdrant/gte-large-onnx',\n",
       "   'url': None,\n",
       "   '_deprecated_tar_struct': False},\n",
       "  'model_file': 'model.onnx',\n",
       "  'description': 'Text embeddings, Unimodal (text), English, 512 input tokens truncation, Prefixes for queries/documents: not necessary, 2023 year.',\n",
       "  'license': 'mit',\n",
       "  'size_in_GB': 1.2,\n",
       "  'additional_files': [],\n",
       "  'dim': 1024,\n",
       "  'tasks': {}},\n",
       " {'model': 'nomic-ai/nomic-embed-text-v1.5',\n",
       "  'sources': {'hf': 'nomic-ai/nomic-embed-text-v1.5',\n",
       "   'url': None,\n",
       "   '_deprecated_tar_struct': False},\n",
       "  'model_file': 'onnx/model.onnx',\n",
       "  'description': 'Text embeddings, Multimodal (text, image), English, 8192 input tokens truncation, Prefixes for queries/documents: necessary, 2024 year.',\n",
       "  'license': 'apache-2.0',\n",
       "  'size_in_GB': 0.52,\n",
       "  'additional_files': [],\n",
       "  'dim': 768,\n",
       "  'tasks': {}},\n",
       " {'model': 'nomic-ai/nomic-embed-text-v1.5-Q',\n",
       "  'sources': {'hf': 'nomic-ai/nomic-embed-text-v1.5',\n",
       "   'url': None,\n",
       "   '_deprecated_tar_struct': False},\n",
       "  'model_file': 'onnx/model_quantized.onnx',\n",
       "  'description': 'Text embeddings, Multimodal (text, image), English, 8192 input tokens truncation, Prefixes for queries/documents: necessary, 2024 year.',\n",
       "  'license': 'apache-2.0',\n",
       "  'size_in_GB': 0.13,\n",
       "  'additional_files': [],\n",
       "  'dim': 768,\n",
       "  'tasks': {}},\n",
       " {'model': 'nomic-ai/nomic-embed-text-v1',\n",
       "  'sources': {'hf': 'nomic-ai/nomic-embed-text-v1',\n",
       "   'url': None,\n",
       "   '_deprecated_tar_struct': False},\n",
       "  'model_file': 'onnx/model.onnx',\n",
       "  'description': 'Text embeddings, Multimodal (text, image), English, 8192 input tokens truncation, Prefixes for queries/documents: necessary, 2024 year.',\n",
       "  'license': 'apache-2.0',\n",
       "  'size_in_GB': 0.52,\n",
       "  'additional_files': [],\n",
       "  'dim': 768,\n",
       "  'tasks': {}},\n",
       " {'model': 'sentence-transformers/paraphrase-multilingual-MiniLM-L12-v2',\n",
       "  'sources': {'hf': 'qdrant/paraphrase-multilingual-MiniLM-L12-v2-onnx-Q',\n",
       "   'url': None,\n",
       "   '_deprecated_tar_struct': False},\n",
       "  'model_file': 'model_optimized.onnx',\n",
       "  'description': 'Text embeddings, Unimodal (text), Multilingual (~50 languages), 512 input tokens truncation, Prefixes for queries/documents: not necessary, 2019 year.',\n",
       "  'license': 'apache-2.0',\n",
       "  'size_in_GB': 0.22,\n",
       "  'additional_files': [],\n",
       "  'dim': 384,\n",
       "  'tasks': {}},\n",
       " {'model': 'sentence-transformers/paraphrase-multilingual-mpnet-base-v2',\n",
       "  'sources': {'hf': 'xenova/paraphrase-multilingual-mpnet-base-v2',\n",
       "   'url': None,\n",
       "   '_deprecated_tar_struct': False},\n",
       "  'model_file': 'onnx/model.onnx',\n",
       "  'description': 'Text embeddings, Unimodal (text), Multilingual (~50 languages), 384 input tokens truncation, Prefixes for queries/documents: not necessary, 2021 year.',\n",
       "  'license': 'apache-2.0',\n",
       "  'size_in_GB': 1.0,\n",
       "  'additional_files': [],\n",
       "  'dim': 768,\n",
       "  'tasks': {}},\n",
       " {'model': 'intfloat/multilingual-e5-large',\n",
       "  'sources': {'hf': 'qdrant/multilingual-e5-large-onnx',\n",
       "   'url': 'https://storage.googleapis.com/qdrant-fastembed/fast-multilingual-e5-large.tar.gz',\n",
       "   '_deprecated_tar_struct': True},\n",
       "  'model_file': 'model.onnx',\n",
       "  'description': 'Text embeddings, Unimodal (text), Multilingual (~100 languages), 512 input tokens truncation, Prefixes for queries/documents: necessary, 2024 year.',\n",
       "  'license': 'mit',\n",
       "  'size_in_GB': 2.24,\n",
       "  'additional_files': ['model.onnx_data'],\n",
       "  'dim': 1024,\n",
       "  'tasks': {}},\n",
       " {'model': 'jinaai/jina-embeddings-v3',\n",
       "  'sources': {'hf': 'jinaai/jina-embeddings-v3',\n",
       "   'url': None,\n",
       "   '_deprecated_tar_struct': False},\n",
       "  'model_file': 'onnx/model.onnx',\n",
       "  'description': 'Multi-task unimodal (text) embedding model, multi-lingual (~100), 1024 tokens truncation, and 8192 sequence length. Prefixes for queries/documents: not necessary, 2024 year.',\n",
       "  'license': 'cc-by-nc-4.0',\n",
       "  'size_in_GB': 2.29,\n",
       "  'additional_files': ['onnx/model.onnx_data'],\n",
       "  'dim': 1024,\n",
       "  'tasks': {'retrieval.query': 0,\n",
       "   'retrieval.passage': 1,\n",
       "   'separation': 2,\n",
       "   'classification': 3,\n",
       "   'text-matching': 4}}]"
      ]
     },
     "execution_count": 31,
     "metadata": {},
     "output_type": "execute_result"
    }
   ],
   "source": [
    "TextEmbedding.list_supported_models()"
   ]
  },
  {
   "cell_type": "code",
   "execution_count": 57,
   "id": "546da6e9",
   "metadata": {},
   "outputs": [
    {
     "data": {
      "text/plain": [
       "True"
      ]
     },
     "execution_count": 57,
     "metadata": {},
     "output_type": "execute_result"
    }
   ],
   "source": [
    "client = QdrantClient(\"http://localhost\", port=6333)\n",
    "if client.collection_exists(collection_name=\"dtc-ml-zoomcamp\"):\n",
    "    client.delete_collection(collection_name=\"dtc-ml-zoomcamp\")\n",
    "client.create_collection(\n",
    "    collection_name=\"dtc-ml-zoomcamp\",\n",
    "    vectors_config=models.VectorParams(\n",
    "        size=384,\n",
    "        distance=models.Distance.COSINE,\n",
    "    )\n",
    ")"
   ]
  },
  {
   "cell_type": "code",
   "execution_count": 59,
   "id": "3efba3ef",
   "metadata": {},
   "outputs": [],
   "source": [
    "points = []\n",
    "id = 0\n",
    "\n",
    "for course in response_json:\n",
    "    if course['course'] == 'machine-learning-zoomcamp':\n",
    "        for doc in course['documents']:\n",
    "            point=models.PointStruct(\n",
    "                id=id,\n",
    "                vector=models.Document(\n",
    "                    text=doc['question'] + ' ' + doc['text'],\n",
    "                    model='BAAI/bge-small-en'\n",
    "                ),\n",
    "                payload={\n",
    "                    \"text\": doc['question'] + ' ' + doc['text'],\n",
    "                    \"section\": doc['section'],\n",
    "                }\n",
    "            )\n",
    "            points.append(point)\n",
    "            id += 1"
   ]
  },
  {
   "cell_type": "code",
   "execution_count": 60,
   "id": "d870be0f",
   "metadata": {},
   "outputs": [
    {
     "name": "stderr",
     "output_type": "stream",
     "text": [
      "Fetching 5 files: 100%|██████████████████████████████████████████████████████████████████████████████████████████████████████████████████████████████████████████████████████████| 5/5 [00:14<00:00,  2.94s/it]\n"
     ]
    },
    {
     "data": {
      "text/plain": [
       "UpdateResult(operation_id=0, status=<UpdateStatus.COMPLETED: 'completed'>)"
      ]
     },
     "execution_count": 60,
     "metadata": {},
     "output_type": "execute_result"
    }
   ],
   "source": [
    "client.upsert(\n",
    "    collection_name='dtc-ml-zoomcamp',\n",
    "    points=points\n",
    ")"
   ]
  },
  {
   "cell_type": "code",
   "execution_count": 61,
   "id": "4643bb3c",
   "metadata": {},
   "outputs": [
    {
     "name": "stdout",
     "output_type": "stream",
     "text": [
      "points=[ScoredPoint(id=14, version=0, score=0.8703172, payload={'text': 'The course has already started. Can I still join it? Yes, you can. You won’t be able to submit some of the homeworks, but you can still take part in the course.\\nIn order to get a certificate, you need to submit 2 out of 3 course projects and review 3 peers’ Projects by the deadline. It means that if you join the course at the end of November and manage to work on two projects, you will still be eligible for a certificate.', 'section': 'General course-related questions'}, vector=None, shard_key=None, order_value=None)]\n"
     ]
    }
   ],
   "source": [
    "results = client.query_points(\n",
    "    collection_name=\"dtc-ml-zoomcamp\",\n",
    "    query=models.Document(\n",
    "        text='I just discovered the course. Can I join now?',\n",
    "        model='BAAI/bge-small-en',\n",
    "   ),\n",
    "    limit=1\n",
    ")\n",
    "\n",
    "print(results)"
   ]
  }
 ],
 "metadata": {
  "kernelspec": {
   "display_name": "Python 3 (ipykernel)",
   "language": "python",
   "name": "python3"
  },
  "language_info": {
   "codemirror_mode": {
    "name": "ipython",
    "version": 3
   },
   "file_extension": ".py",
   "mimetype": "text/x-python",
   "name": "python",
   "nbconvert_exporter": "python",
   "pygments_lexer": "ipython3",
   "version": "3.11.0"
  }
 },
 "nbformat": 4,
 "nbformat_minor": 5
}
